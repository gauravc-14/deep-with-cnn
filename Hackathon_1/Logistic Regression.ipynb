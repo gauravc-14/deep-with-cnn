{
 "cells": [
  {
   "cell_type": "markdown",
   "metadata": {},
   "source": [
    "# Importing Required Libraries"
   ]
  },
  {
   "cell_type": "code",
   "execution_count": 2,
   "metadata": {},
   "outputs": [],
   "source": [
    "import numpy as np\n",
    "import pandas as pd\n",
    "import matplotlib.pyplot as plt\n",
    "import seaborn as sns"
   ]
  },
  {
   "cell_type": "code",
   "execution_count": null,
   "metadata": {},
   "outputs": [],
   "source": [
    "import torch"
   ]
  },
  {
   "cell_type": "markdown",
   "metadata": {},
   "source": [
    "# Reading Data"
   ]
  },
  {
   "cell_type": "code",
   "execution_count": null,
   "metadata": {},
   "outputs": [],
   "source": [
    "train = pd.read_csv('train.csv')\n",
    "test = pd.read_csv('test.csv')\n",
    "train.head() #Viewing First 5 rows of training data"
   ]
  },
  {
   "cell_type": "code",
   "execution_count": null,
   "metadata": {
    "scrolled": true
   },
   "outputs": [],
   "source": [
    "train.describe() "
   ]
  },
  {
   "cell_type": "code",
   "execution_count": null,
   "metadata": {},
   "outputs": [],
   "source": [
    "train.isnull().sum().sum() #Checking if it contains any null value"
   ]
  },
  {
   "cell_type": "markdown",
   "metadata": {},
   "source": [
    "# Preprocessing Data"
   ]
  },
  {
   "cell_type": "code",
   "execution_count": null,
   "metadata": {},
   "outputs": [],
   "source": [
    "#Training Data to numpy Array\n",
    "\n",
    "y_train = pd.get_dummies(train['target']) #separating labels into 10 different columns (one hot enocoding)\n",
    "x_train = train.drop(['target', 'id'], axis = 1) \n",
    "\n",
    "y_train = y_train.to_numpy().T\n",
    "x_train = x_train.to_numpy().T\n",
    "x_train = x_train /255 # Making all values between 0-1\n",
    "\n",
    "print(y_train[: , 0:5])"
   ]
  },
  {
   "cell_type": "code",
   "execution_count": null,
   "metadata": {},
   "outputs": [],
   "source": [
    "#Testing Data to numpy Array\n",
    "iden = test[\"id\"].copy()\n",
    "x_test = test.drop(['id'], axis = 1)\n",
    "x_test = x_test /255"
   ]
  },
  {
   "cell_type": "markdown",
   "metadata": {},
   "source": [
    "## TRAINING MODEL"
   ]
  },
  {
   "cell_type": "code",
   "execution_count": null,
   "metadata": {},
   "outputs": [],
   "source": [
    "def parameters(features, labels):\n",
    "    W = np.random.rand(9, features)\n",
    "    b = np.random.rand(9, 1)\n",
    "    return W, b\n"
   ]
  },
  {
   "cell_type": "markdown",
   "metadata": {},
   "source": [
    "# Forward Propagation"
   ]
  },
  {
   "cell_type": "code",
   "execution_count": null,
   "metadata": {},
   "outputs": [],
   "source": [
    "def softmax(Z):\n",
    "    return np.exp(Z) / sum(np.exp(Z)) # returns the probability of all labels\n",
    "        \n",
    "def forward(X, W, b):\n",
    "    Z = W.dot(X) + b\n",
    "    A = softmax(Z)  \n",
    "\n",
    "    return Z, A"
   ]
  },
  {
   "cell_type": "markdown",
   "metadata": {},
   "source": [
    "# Backward Propagation"
   ]
  },
  {
   "cell_type": "code",
   "execution_count": null,
   "metadata": {},
   "outputs": [],
   "source": [
    "def relu_backward(Z):\n",
    "    return Z > 0\n",
    "\n",
    "def backward(X, Y, A, W, b, alpha):\n",
    "    m = X.shape[1]\n",
    "    \n",
    "    # Gradient of parameters\n",
    "    dZ = A - Y\n",
    "    dW = 1 / m * dZ.dot(X.T)\n",
    "    db = 1 / m * np.sum(dZ)\n",
    "    \n",
    "    #updating the parameters\n",
    "    W = W - alpha * dW\n",
    "    b = b - alpha * db      \n",
    "    \n",
    "    return W, b"
   ]
  },
  {
   "cell_type": "code",
   "execution_count": null,
   "metadata": {},
   "outputs": [],
   "source": [
    "def flatten(A):\n",
    "    return np.argmax(A, 0) # Taking index of maximum value across rows\n",
    "\n",
    "def accuracy(predictions, targets):\n",
    "    return np.mean(predictions == targets) # Number of values of the prediction same as given labels"
   ]
  },
  {
   "cell_type": "markdown",
   "metadata": {},
   "source": [
    "# Model"
   ]
  },
  {
   "cell_type": "code",
   "execution_count": null,
   "metadata": {},
   "outputs": [],
   "source": [
    "def model(X, Y, alpha, epochs):\n",
    "    pixels, samples = X.shape\n",
    "    labels, _ = Y.shape\n",
    "    losses = [] # Array to store loss of each iteration \n",
    "    W, b = parameters(pixels, labels)\n",
    "    \n",
    "    for i in range(epochs):\n",
    "        Z, A = forward(X, W, b)\n",
    "        W, b = backward(X, Y, A, W, b, alpha)\n",
    "        predictions = flatten(A)\n",
    "        target = flatten(Y)\n",
    "        if i % 50 == 0:\n",
    "            print(f\"[================== Epochs: {i} =====================]\")\n",
    "            print(predictions, target)\n",
    "            print(f\"Training Accuracy: {accuracy(predictions, target) : .3f}\")\n",
    "    return W, b, losses "
   ]
  },
  {
   "cell_type": "markdown",
   "metadata": {},
   "source": [
    "# Accuracy and Loss of Train-Set"
   ]
  },
  {
   "cell_type": "code",
   "execution_count": null,
   "metadata": {},
   "outputs": [],
   "source": [
    "W, b, losses = model(x_train, y_train, 0.09, 3000)"
   ]
  },
  {
   "cell_type": "code",
   "execution_count": null,
   "metadata": {},
   "outputs": [],
   "source": [
    "_ , pred = forward(x_test, W, b)\n",
    "\n",
    "ans = pd.DataFrame({'\"Class_{1}\"': pred[:, 1]})\n",
    "for i in range(2,10):\n",
    "    temp = pd.DataFrame({'f\"Class_{i}\"': data[:, i]})\n",
    "    ans = pd.concat([ans,temp], axis = 0)\n",
    "    \n",
    "for i in range(1,10):\n",
    "    ans[f\"Class_{i}\"] = ans[f\"Class_{i}\"].round(decimals = 4)\n",
    "ans.head()"
   ]
  },
  {
   "cell_type": "code",
   "execution_count": null,
   "metadata": {},
   "outputs": [],
   "source": [
    "ans.to_csv('hackathon.csv',index = False,header = True)"
   ]
  }
 ],
 "metadata": {
  "interpreter": {
   "hash": "af94bd0208e2bb1a95590dd2fe0bda96ee334aa627acea11b3ed4f706f241278"
  },
  "kernelspec": {
   "display_name": "Python 3",
   "language": "python",
   "name": "python3"
  },
  "language_info": {
   "codemirror_mode": {
    "name": "ipython",
    "version": 3
   },
   "file_extension": ".py",
   "mimetype": "text/x-python",
   "name": "python",
   "nbconvert_exporter": "python",
   "pygments_lexer": "ipython3",
   "version": "3.8.5"
  }
 },
 "nbformat": 4,
 "nbformat_minor": 4
}
